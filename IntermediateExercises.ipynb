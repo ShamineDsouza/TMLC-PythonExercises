{
  "nbformat": 4,
  "nbformat_minor": 0,
  "metadata": {
    "colab": {
      "provenance": [],
      "authorship_tag": "ABX9TyOnDaRNC3jdF+P0tHu+rkc0",
      "include_colab_link": true
    },
    "kernelspec": {
      "name": "python3",
      "display_name": "Python 3"
    },
    "language_info": {
      "name": "python"
    }
  },
  "cells": [
    {
      "cell_type": "markdown",
      "metadata": {
        "id": "view-in-github",
        "colab_type": "text"
      },
      "source": [
        "<a href=\"https://colab.research.google.com/github/ShamineDsouza/HSPA/blob/main/IntermediateExercises.ipynb\" target=\"_parent\"><img src=\"https://colab.research.google.com/assets/colab-badge.svg\" alt=\"Open In Colab\"/></a>"
      ]
    },
    {
      "cell_type": "code",
      "execution_count": null,
      "metadata": {
        "id": "HnXBeE1-EZTv"
      },
      "outputs": [],
      "source": []
    },
    {
      "cell_type": "code",
      "source": [
        "# IF Statement\n",
        "score = input(\"Enter your score: \")\n",
        "print(score)\n",
        "if float(score) > 90:\n",
        "  print(\"Grade A\")\n",
        "elif  float(score) > 75:\n",
        "   print(\"Grade B\")\n",
        "elif  float(score) > 65:\n",
        "  print(\"Grade C\")"
      ],
      "metadata": {
        "colab": {
          "base_uri": "https://localhost:8080/"
        },
        "id": "z0U-5n7BEdkD",
        "outputId": "a7db3750-bba1-4098-b396-2a6475608460"
      },
      "execution_count": null,
      "outputs": [
        {
          "output_type": "stream",
          "name": "stdout",
          "text": [
            "Enter your score: 34\n",
            "34\n"
          ]
        }
      ]
    },
    {
      "cell_type": "code",
      "source": [
        "# While looping\n",
        "count = 5\n",
        "arrNum = []\n",
        "sum = 0\n",
        "\n",
        "while count > 0:\n",
        "  el = int(input(\"Ener your number: \"))\n",
        "  arrNum.append(el)\n",
        "  sum = sum + el\n",
        "  count = count - 1\n",
        "\n",
        "print(sum)\n",
        " # print(sum)\n"
      ],
      "metadata": {
        "colab": {
          "base_uri": "https://localhost:8080/"
        },
        "id": "_UPl5TEEMZ-c",
        "outputId": "cf0de9bc-47d1-42b8-813f-6e38734838d6"
      },
      "execution_count": null,
      "outputs": [
        {
          "output_type": "stream",
          "name": "stdout",
          "text": [
            "Ener your number: 1\n",
            "Ener your number: 2\n",
            "Ener your number: 3\n",
            "Ener your number: 4\n",
            "Ener your number: 8\n",
            "18\n"
          ]
        }
      ]
    },
    {
      "cell_type": "code",
      "source": [
        "## Print using for loop\n",
        "arrNum = []\n",
        "n = 5\n",
        "init = 0\n",
        "for i in range(n):\n",
        "  arrNum = []\n",
        "  for j in range(n-i, init, -1):\n",
        "    arrNum.append(j)\n",
        "    # print(j)\n",
        "  print(arrNum)"
      ],
      "metadata": {
        "colab": {
          "base_uri": "https://localhost:8080/"
        },
        "id": "nFCT5swONDM2",
        "outputId": "5d6c3da5-bcd1-4a34-9678-fb9817795b22"
      },
      "execution_count": null,
      "outputs": [
        {
          "output_type": "stream",
          "name": "stdout",
          "text": [
            "[5, 4, 3, 2, 1]\n",
            "[4, 3, 2, 1]\n",
            "[3, 2, 1]\n",
            "[2, 1]\n",
            "[1]\n"
          ]
        }
      ]
    },
    {
      "cell_type": "code",
      "source": [],
      "metadata": {
        "id": "-J-vdJDiQOB5"
      },
      "execution_count": null,
      "outputs": []
    }
  ]
}