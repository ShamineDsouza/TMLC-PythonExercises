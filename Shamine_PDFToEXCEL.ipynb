{
  "nbformat": 4,
  "nbformat_minor": 0,
  "metadata": {
    "colab": {
      "provenance": [],
      "authorship_tag": "ABX9TyOWTYXcavsIBlKhOJY8HZK5",
      "include_colab_link": true
    },
    "kernelspec": {
      "name": "python3",
      "display_name": "Python 3"
    },
    "language_info": {
      "name": "python"
    }
  },
  "cells": [
    {
      "cell_type": "markdown",
      "metadata": {
        "id": "view-in-github",
        "colab_type": "text"
      },
      "source": [
        "<a href=\"https://colab.research.google.com/github/ShamineDsouza/HSPA/blob/main/Shamine_PDFToEXCEL.ipynb\" target=\"_parent\"><img src=\"https://colab.research.google.com/assets/colab-badge.svg\" alt=\"Open In Colab\"/></a>"
      ]
    },
    {
      "cell_type": "code",
      "source": [
        "!java -version"
      ],
      "metadata": {
        "colab": {
          "base_uri": "https://localhost:8080/"
        },
        "id": "NFMt1AzMKAav",
        "outputId": "0724669a-e3bd-4633-909e-7e0baca1a6c8"
      },
      "execution_count": 7,
      "outputs": [
        {
          "output_type": "stream",
          "name": "stdout",
          "text": [
            "openjdk version \"11.0.21\" 2023-10-17\n",
            "OpenJDK Runtime Environment (build 11.0.21+9-post-Ubuntu-0ubuntu122.04)\n",
            "OpenJDK 64-Bit Server VM (build 11.0.21+9-post-Ubuntu-0ubuntu122.04, mixed mode, sharing)\n"
          ]
        }
      ]
    },
    {
      "cell_type": "code",
      "source": [
        "!pip install -q tabula-py"
      ],
      "metadata": {
        "id": "ca46V1eUKFOH"
      },
      "execution_count": 8,
      "outputs": []
    },
    {
      "cell_type": "code",
      "source": [
        "import tabula\n",
        "\n",
        "tabula.environment_info()"
      ],
      "metadata": {
        "colab": {
          "base_uri": "https://localhost:8080/"
        },
        "id": "IDaInhchKLDF",
        "outputId": "daf95fcb-df59-4136-89ff-8b6d0e9bef1a"
      },
      "execution_count": 9,
      "outputs": [
        {
          "output_type": "stream",
          "name": "stdout",
          "text": [
            "Python version:\n",
            "    3.10.12 (main, Nov 20 2023, 15:14:05) [GCC 11.4.0]\n",
            "Java version:\n",
            "    openjdk version \"11.0.21\" 2023-10-17\n",
            "OpenJDK Runtime Environment (build 11.0.21+9-post-Ubuntu-0ubuntu122.04)\n",
            "OpenJDK 64-Bit Server VM (build 11.0.21+9-post-Ubuntu-0ubuntu122.04, mixed mode, sharing)\n",
            "tabula-py version: 2.9.0\n",
            "platform: Linux-6.1.58+-x86_64-with-glibc2.35\n",
            "uname:\n",
            "    uname_result(system='Linux', node='6f75bf077abe', release='6.1.58+', version='#1 SMP PREEMPT_DYNAMIC Sat Nov 18 15:31:17 UTC 2023', machine='x86_64')\n",
            "linux_distribution: ('Ubuntu', '22.04', 'jammy')\n",
            "mac_ver: ('', ('', '', ''), '')\n"
          ]
        }
      ]
    },
    {
      "cell_type": "code",
      "source": [],
      "metadata": {
        "id": "PmYipQixKP1L"
      },
      "execution_count": null,
      "outputs": []
    },
    {
      "cell_type": "code",
      "execution_count": 12,
      "metadata": {
        "colab": {
          "base_uri": "https://localhost:8080/"
        },
        "id": "q6FGPenCluQz",
        "outputId": "c2544a31-eb8c-42e5-8926-d0d078119be4"
      },
      "outputs": [
        {
          "output_type": "stream",
          "name": "stderr",
          "text": [
            "WARNING:tabula.util:'pages' argument isn't specified.Will extract only from page 1 by default.\n",
            "WARNING:tabula.backend:Got stderr: Feb 19, 2024 7:01:09 AM org.apache.pdfbox.pdmodel.font.PDType1Font <init>\n",
            "WARNING: Using fallback font LiberationSans for base font Symbol\n",
            "Feb 19, 2024 7:01:09 AM org.apache.pdfbox.pdmodel.font.PDType1Font <init>\n",
            "WARNING: Using fallback font LiberationSans for base font ZapfDingbats\n",
            "\n"
          ]
        },
        {
          "output_type": "stream",
          "name": "stdout",
          "text": [
            "1\n"
          ]
        },
        {
          "output_type": "stream",
          "name": "stderr",
          "text": [
            "WARNING:tabula.backend:Got stderr: Feb 19, 2024 7:01:13 AM org.apache.pdfbox.pdmodel.font.PDType1Font <init>\n",
            "WARNING: Using fallback font LiberationSans for base font Symbol\n",
            "Feb 19, 2024 7:01:13 AM org.apache.pdfbox.pdmodel.font.PDType1Font <init>\n",
            "WARNING: Using fallback font LiberationSans for base font ZapfDingbats\n",
            "\n"
          ]
        },
        {
          "output_type": "stream",
          "name": "stdout",
          "text": [
            "Conversion complete. Excel file saved as: bank_statement.xlsx\n"
          ]
        }
      ],
      "source": [
        "import tabula\n",
        "pdf_path = \"https://github.com/chezou/tabula-py/raw/master/tests/resources/data.pdf\"\n",
        "\n",
        "# dfs = tabula.read_pdf(pdf_path, stream=True)\n",
        "# # read_pdf returns list of DataFrames\n",
        "# print(len(dfs))\n",
        "# dfs[0]\n",
        "\n",
        "\n",
        "\n",
        "# Read PDF and extract tables\n",
        "tables = tabula.read_pdf(pdf_path, pages='all', multiple_tables=True)\n",
        "# Convert each table to DataFrame and concatenate them\n",
        "df = pd.concat(tables)\n",
        "\n",
        "# Export DataFrame to Excel\n",
        "excel_file = \"bank_statement.xlsx\"\n",
        "df.to_excel(excel_file, index=False)\n",
        "\n",
        "print(\"Conversion complete. Excel file saved as:\", excel_file)"
      ]
    },
    {
      "cell_type": "code",
      "source": [
        "# # Path to your PDF file\n",
        "# pdf_file = \"path/to/your/bank_statement.pdf\"\n",
        "\n",
        "# # Read PDF and extract tables\n",
        "# tables = tabula.read_pdf(pdf_file, pages='all', multiple_tables=True)\n",
        "\n",
        "# # Convert each table to DataFrame and concatenate them\n",
        "# df = pd.concat(tables)\n",
        "\n",
        "# # Export DataFrame to Excel\n",
        "# excel_file = \"bank_statement.xlsx\"\n",
        "# df.to_excel(excel_file, index=False)\n",
        "\n",
        "# print(\"Conversion complete. Excel file saved as:\", excel_file)"
      ],
      "metadata": {
        "id": "tbwASlI9IvD7"
      },
      "execution_count": null,
      "outputs": []
    }
  ]
}