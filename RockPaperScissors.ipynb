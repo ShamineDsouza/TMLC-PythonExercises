{
  "nbformat": 4,
  "nbformat_minor": 0,
  "metadata": {
    "colab": {
      "provenance": [],
      "authorship_tag": "ABX9TyMPSDVJRTinPM5gROmSvIQS",
      "include_colab_link": true
    },
    "kernelspec": {
      "name": "python3",
      "display_name": "Python 3"
    },
    "language_info": {
      "name": "python"
    }
  },
  "cells": [
    {
      "cell_type": "markdown",
      "metadata": {
        "id": "view-in-github",
        "colab_type": "text"
      },
      "source": [
        "<a href=\"https://colab.research.google.com/github/ShamineDsouza/HSPA/blob/main/RockPaperScissors.ipynb\" target=\"_parent\"><img src=\"https://colab.research.google.com/assets/colab-badge.svg\" alt=\"Open In Colab\"/></a>"
      ]
    },
    {
      "cell_type": "code",
      "source": [
        "import random\n",
        "print(\"Selection 1: Rock + Paper =Paper\")\n",
        "print(\"Selection 2: Rock + Scissor =Rock\")\n",
        "print(\"Selection 3: Scissor + Paper =Scissor\")\n",
        "\n",
        "value = 0\n",
        "try:\n",
        "  print(\"Selection numbers:\")\n",
        "  print(\"Press 1 : Rock\")\n",
        "  print(\"Press 2 : Paper\")\n",
        "  print(\"Press 3 : Scissor\")\n",
        "  selection = { 1: \"Rock\", 2: \"Paper\", 3: \"Scissor\" }\n",
        "  print(selection)\n",
        "\n",
        "  while value < 1:\n",
        "\n",
        "      val1 = int(input(\"Enter Selection 1\"))\n",
        "\n",
        "      while val1 not in [1, 2 ,3]:\n",
        "        print(\"Please enter the correct option and take the input again\")\n",
        "        val1 = int(input(\"Enter Selection \"))\n",
        "\n",
        "      user_choice = selection[val1]\n",
        "      print (\"User Choice: {}\".format(user_choice)) # print choice\n",
        "\n",
        "      val2 = random.randint(1, 3)\n",
        "      computer_choice = selection[val2]\n",
        "      print(\"Computer choice: {}\".format(computer_choice)) # print choice\n",
        "\n",
        "      if val1 == val2:\n",
        "        print(\"It is a tie\")\n",
        "      elif val1 ==1 and val2 ==3:\n",
        "        print(\"User wins\")\n",
        "      elif val1 < val2:\n",
        "        print(\"Computer wins\")\n",
        "      else:\n",
        "        print(\"User wins\")\n",
        "\n",
        "\n",
        "      value = int(input(\"Do you want to stop playing. Press 1: \"))\n",
        "      if int(value) == 1:\n",
        "        break\n",
        "      else:\n",
        "        continue\n",
        "\n",
        "  print(\"Had a good time\")\n",
        "\n",
        "except ValueError:\n",
        "  print(\"INcorrext value\")\n"
      ],
      "metadata": {
        "colab": {
          "base_uri": "https://localhost:8080/"
        },
        "id": "eUrL4kQkXhr4",
        "outputId": "aa232afa-aec1-4405-cd0c-ec94dee65931"
      },
      "execution_count": 30,
      "outputs": [
        {
          "output_type": "stream",
          "name": "stdout",
          "text": [
            "Selection 1: Rock + Paper =Paper\n",
            "Selection 2: Rock + Scissor =Rock\n",
            "Selection 3: Scissor + Paper =Scissor\n",
            "Selection numbers:\n",
            "Press 1 : Rock\n",
            "Press 2 : Paper\n",
            "Press 3 : Scissor\n",
            "{1: 'Rock', 2: 'Paper', 3: 'Scissor'}\n",
            "Enter Selection 11\n",
            "User Choice: Rock\n",
            "Computer choice: Paper\n",
            "Computer wins\n",
            "Do you want to stop playing. Press 1: 0\n",
            "Enter Selection 11\n",
            "User Choice: Rock\n",
            "Computer choice: Scissor\n",
            "User wins\n",
            "Do you want to stop playing. Press 1: 1\n",
            "Had a good time\n"
          ]
        }
      ]
    },
    {
      "cell_type": "code",
      "source": [],
      "metadata": {
        "id": "PLvZ_DR7Xkfy"
      },
      "execution_count": null,
      "outputs": []
    },
    {
      "cell_type": "code",
      "source": [],
      "metadata": {
        "id": "p5zKrXB3XmFX"
      },
      "execution_count": null,
      "outputs": []
    }
  ]
}