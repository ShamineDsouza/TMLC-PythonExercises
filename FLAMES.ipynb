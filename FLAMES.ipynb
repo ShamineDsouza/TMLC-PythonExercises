{
  "nbformat": 4,
  "nbformat_minor": 0,
  "metadata": {
    "colab": {
      "provenance": [],
      "authorship_tag": "ABX9TyOn+buSkajiOhoFtb3garX/",
      "include_colab_link": true
    },
    "kernelspec": {
      "name": "python3",
      "display_name": "Python 3"
    },
    "language_info": {
      "name": "python"
    }
  },
  "cells": [
    {
      "cell_type": "markdown",
      "metadata": {
        "id": "view-in-github",
        "colab_type": "text"
      },
      "source": [
        "<a href=\"https://colab.research.google.com/github/ShamineDsouza/HSPA/blob/main/FLAMES.ipynb\" target=\"_parent\"><img src=\"https://colab.research.google.com/assets/colab-badge.svg\" alt=\"Open In Colab\"/></a>"
      ]
    },
    {
      "cell_type": "code",
      "execution_count": 131,
      "metadata": {
        "colab": {
          "base_uri": "https://localhost:8080/"
        },
        "id": "QtBRS-dUs2x9",
        "outputId": "0efa55d5-ff4f-46fb-8221-a0ba67ce078c"
      },
      "outputs": [
        {
          "output_type": "stream",
          "name": "stdout",
          "text": [
            "Enter name of the parter 1: JAYA\n",
            "Enter name of the parter 2: JAYESH\n",
            "jaya jayesh\n",
            "['j', 'a', 'y', 'a'] 0 ['j', 'a', 'y', 'e', 's', 'h'] 0\n",
            "0 0\n",
            "['a', 'y', 'a'] 0 ['a', 'y', 'e', 's', 'h'] 0\n",
            "0 0\n",
            "['y', 'a'] 0 ['y', 'e', 's', 'h'] 0\n",
            "0 0\n",
            "['a'] ['e', 's', 'h'] ['j', 'a', 'y']\n",
            "Count: 4\n",
            "F -> Friends \n",
            " L -> Lovers \n",
            " A -> Affectionate \n",
            " M -> Marriage \n",
            " E -> Enemies \n",
            " S -> Siblings\n",
            "['E']\n",
            "jaya and jayesh are Enemies\n"
          ]
        }
      ],
      "source": [
        "# Flames\n",
        "from functools import reduce\n",
        "\n",
        "def flamesGame():\n",
        "  flames = \"FLAMES\"\n",
        "  lenCountNames = 0\n",
        "\n",
        "  # Step 1:\n",
        "  def inputNames(): # function to input names\n",
        "    # 1 & 2\n",
        "    name1 = input(\"Enter name of the parter 1: \") # \"JAYA\" # \"Shamine Dsouza\" #input(\"Enter name of the parter 1: \")\n",
        "    name1 = name1.lower().replace(\" \",\"\")\n",
        "    name2 =  input(\"Enter name of the parter 2: \") # \"JAYESH\" # \"Jason Andrade\" # input(\"Enter name of the parter 2: \")\n",
        "    name2 = name2.lower().replace(\" \",\"\")\n",
        "    print(name1, name2)\n",
        "\n",
        "    # Using lambda expression\n",
        "    # tupleName1= tuple(name1) # lambda name1: list(name1)\n",
        "    # tupleName2= tuple(name2) #lambda name2: list(name2) # map(list,name2)\n",
        "    listName1 = [i for i in name1]\n",
        "    listName2 =  [i for i in name2]\n",
        "\n",
        "    charPop = []\n",
        "    counterI = -1\n",
        "    counterJ = -1\n",
        "    # 3 & 4\n",
        "    for i in range(0, len(listName1)-1):\n",
        "      counterI +=1\n",
        "      counterJ = -1\n",
        "      for j in range(0, len(listName2)-1):\n",
        "        counterJ +=1\n",
        "        print(listName1, counterI,  listName2, counterJ )\n",
        "        if listName1[counterI] == listName2[counterJ]:\n",
        "          print(counterI, counterJ)\n",
        "          charPop.append(listName1[counterI])\n",
        "          listName1.pop(counterI)\n",
        "          listName2.pop(counterJ)\n",
        "          counterI -= 1\n",
        "          counterJ -= 1\n",
        "          break\n",
        "\n",
        "    print(listName1, listName2, charPop )\n",
        "    # 5\n",
        "    lenCount= len(listName1) + len(listName2)\n",
        "    print(\"Count: {}\".format(lenCount))\n",
        "    return name1, name2, lenCount\n",
        "    # 6 unsure\n",
        "\n",
        "\n",
        "  # Step 2:\n",
        "  def loopingFlames(name1, name2,lenCount):\n",
        "    print(\"F -> Friends \\n L -> Lovers \\n A -> Affectionate \\n M -> Marriage \\n E -> Enemies \\n S -> Siblings\")\n",
        "    flamesSelection = { \"F\": \"Friends\", \"L\": \"Lovers\", \"A\": \"Affectionate\", \"M\": \"Marriage\", \"E\": \"Enemies\", \"S\": \"Siblings\" }\n",
        "    counter = 0\n",
        "\n",
        "    listFlames = list(flamesSelection.keys())\n",
        "    counter = lenCount\n",
        "    if (counter > len(listFlames)):\n",
        "      counter = counter -lenCount\n",
        "      listFlames.pop(counter - 1)\n",
        "    else:\n",
        "      listFlames.pop(counter - 1)\n",
        "\n",
        "    while len(listFlames) > 1:\n",
        "      # listFlames = listFlames[::counter]\n",
        "      for i in range(0, lenCount):\n",
        "         # print(counter , i, len(listFlames),listFlames )\n",
        "         if (len(listFlames) == counter):\n",
        "           counter = 0\n",
        "         else:\n",
        "          counter += 1\n",
        "      listFlames.pop(counter - 1)\n",
        "    print(listFlames)\n",
        "    print(\"{} and {} are {}\".format(name1, name2,flamesSelection[listFlames[0]]))\n",
        "    return listFlames\n",
        "\n",
        "# Step 3:\n",
        "  def main(): # logic of the game\n",
        "    name1, name2, lenCountNames = inputNames()\n",
        "    flameChar = loopingFlames(name1, name2,lenCountNames)\n",
        "\n",
        "  main()\n",
        "\n",
        "flamesGame()\n",
        "  # if __name__ == \"__main__\": // Did not understand this\n",
        "  #   flamesGame()\n",
        "\n",
        "\n"
      ]
    },
    {
      "cell_type": "code",
      "source": [],
      "metadata": {
        "id": "mWCFj_sJv5jE"
      },
      "execution_count": null,
      "outputs": []
    }
  ]
}