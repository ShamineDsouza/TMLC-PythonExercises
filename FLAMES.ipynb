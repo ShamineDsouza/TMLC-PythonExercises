{
  "nbformat": 4,
  "nbformat_minor": 0,
  "metadata": {
    "colab": {
      "provenance": [],
      "authorship_tag": "ABX9TyP7I93DaWubBnqoKyYZpcyT",
      "include_colab_link": true
    },
    "kernelspec": {
      "name": "python3",
      "display_name": "Python 3"
    },
    "language_info": {
      "name": "python"
    }
  },
  "cells": [
    {
      "cell_type": "markdown",
      "metadata": {
        "id": "view-in-github",
        "colab_type": "text"
      },
      "source": [
        "<a href=\"https://colab.research.google.com/github/ShamineDsouza/HSPA/blob/main/FLAMES.ipynb\" target=\"_parent\"><img src=\"https://colab.research.google.com/assets/colab-badge.svg\" alt=\"Open In Colab\"/></a>"
      ]
    },
    {
      "cell_type": "code",
      "execution_count": 22,
      "metadata": {
        "colab": {
          "base_uri": "https://localhost:8080/"
        },
        "id": "QtBRS-dUs2x9",
        "outputId": "1e7902c3-2594-45e3-c06d-a00795511004"
      },
      "outputs": [
        {
          "output_type": "stream",
          "name": "stdout",
          "text": [
            "jaya jayesh\n",
            "['j', 'a', 'y', 'a'] ['j', 'a', 'y', 'e', 's', 'h']\n",
            "0 0\n",
            "['j', 'a', 'y', 'a'] ['j', 'a', 'y', 'e', 's', 'h']\n",
            "1 0\n",
            "['a', 'y', 'a'] ['a', 'y', 'e', 's', 'h']\n",
            "2 0\n",
            "['y', 'a'] ['y', 'e', 's', 'h']\n",
            "['a'] ['e', 's', 'h'] ['j', 'a', 'y']\n",
            "Count: 4\n",
            "F -> Friends \n",
            " L -> Lovers \n",
            " A -> Affectionate \n",
            " M -> Marriage \n",
            " E -> Enemies \n",
            " S -> Siblings\n",
            "F\n",
            "L\n",
            "A\n",
            "M\n",
            "E\n",
            "S\n"
          ]
        }
      ],
      "source": [
        "# Flames\n",
        "from functools import reduce\n",
        "\n",
        "def flamesGame():\n",
        "  flames = \"FLAMES\"\n",
        "  lenCountNames = 0\n",
        "  # Step 1:\n",
        "  def inputNames(): # function to input names\n",
        "    # 1 & 2\n",
        "    name1 =\"JAYA\" # \"Shamine Dsouza\" #input(\"Enter name of the parter 1: \")\n",
        "    name1 = name1.lower().replace(\" \",\"\")\n",
        "    name2 = \"JAYESH\" # \"Jason Andrade\" # input(\"Enter name of the parter 2: \")\n",
        "    name2 = name2.lower().replace(\" \",\"\")\n",
        "    print(name1, name2)\n",
        "\n",
        "    # Using lambda expression\n",
        "    tupleName1= tuple(name1) # lambda name1: list(name1)\n",
        "    tupleName2=tuple(name2) #lambda name2: list(name2) # map(list,name2)\n",
        "    listName1 = [i for i in tupleName1]\n",
        "    listName2 =  [i for i in tupleName2]\n",
        "\n",
        "\n",
        "    print(listName1, listName2)\n",
        "    charPop = []\n",
        "    counterI = -1\n",
        "    counterJ = -1\n",
        "    # 3 & 4\n",
        "    for i in range(0, len(listName1)-1):\n",
        "      counterI +=1\n",
        "      print(i, counterI)\n",
        "      for j in range(0, len(listName2)-1):\n",
        "        counterJ +=1\n",
        "        print(listName1, listName2)\n",
        "        if listName1[counterI] == listName2[counterJ]:\n",
        "          charPop.append(listName1[counterJ])\n",
        "          listName1.pop(counterI)\n",
        "          listName2.pop(counterJ)\n",
        "          counterI -= 1\n",
        "          counterJ -= 1\n",
        "\n",
        "          break\n",
        "\n",
        "    print(listName1, listName2, charPop)\n",
        "    # 5\n",
        "    lenCount= len(listName1) + len(listName2)\n",
        "    print(\"Count: {}\".format(lenCount))\n",
        "    return lenCount\n",
        "    # 6 unsure\n",
        "\n",
        "  # Step 2:\n",
        "  def loopingFlames(lenCount):\n",
        "    print(\"F -> Friends \\n L -> Lovers \\n A -> Affectionate \\n M -> Marriage \\n E -> Enemies \\n S -> Siblings\")\n",
        "    counter = 0\n",
        "    listFlames = [i for i in flames]\n",
        "    while len(listFlames) > 1:\n",
        "      listFlames.pop(lenCount)\n",
        "      Counter= 4\n",
        "      Counter = len(listFlames) - lenCount\n",
        "\n",
        "      break\n",
        "\n",
        "  def main(): # logic of the game\n",
        "    lenCountNames = inputNames()\n",
        "    loopingFlames(lenCountNames)\n",
        "\n",
        "  if __name__ == \"__main__\":\n",
        "    main()\n",
        "\n",
        "flamesGame()\n"
      ]
    },
    {
      "cell_type": "code",
      "source": [],
      "metadata": {
        "id": "mWCFj_sJv5jE"
      },
      "execution_count": null,
      "outputs": []
    }
  ]
}