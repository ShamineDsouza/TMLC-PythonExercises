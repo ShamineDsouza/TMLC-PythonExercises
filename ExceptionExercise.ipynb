{
  "nbformat": 4,
  "nbformat_minor": 0,
  "metadata": {
    "colab": {
      "provenance": [],
      "authorship_tag": "ABX9TyP34BCaJZww0DNNRvohTUgm",
      "include_colab_link": true
    },
    "kernelspec": {
      "name": "python3",
      "display_name": "Python 3"
    },
    "language_info": {
      "name": "python"
    }
  },
  "cells": [
    {
      "cell_type": "markdown",
      "metadata": {
        "id": "view-in-github",
        "colab_type": "text"
      },
      "source": [
        "<a href=\"https://colab.research.google.com/github/ShamineDsouza/HSPA/blob/main/ExceptionExercise.ipynb\" target=\"_parent\"><img src=\"https://colab.research.google.com/assets/colab-badge.svg\" alt=\"Open In Colab\"/></a>"
      ]
    },
    {
      "cell_type": "code",
      "source": [
        "# Exercise 1:\n",
        "\n",
        "try:\n",
        "  value = int(input())\n",
        "except ValueError:\n",
        "  print('The input is not a valid integer')\n",
        "print('Program Ended')"
      ],
      "metadata": {
        "colab": {
          "base_uri": "https://localhost:8080/"
        },
        "id": "b7oLo47SYXra",
        "outputId": "464844d7-f2a3-4473-c00a-00bf431bb2f5"
      },
      "execution_count": 8,
      "outputs": [
        {
          "output_type": "stream",
          "name": "stdout",
          "text": [
            "d\n",
            "The input is not a valid integer\n",
            "Program Ended\n"
          ]
        }
      ]
    },
    {
      "cell_type": "code",
      "source": [
        "# Exercise 2:\n",
        "\n",
        "message =''\n",
        "try:\n",
        "  value1 = input(\"Num 1\")\n",
        "  value2 = input(\"Num 2\")\n",
        "  print(type(value1))\n",
        "  print(type(value2))\n",
        "  val = value1/value2\n",
        "except TypeError:\n",
        "  print('The inputs are not numerical')\n",
        "print('Program Ended')"
      ],
      "metadata": {
        "colab": {
          "base_uri": "https://localhost:8080/"
        },
        "id": "1h1sHDdHYNLD",
        "outputId": "153385de-6af4-4e2e-ed8b-8ee7cc84f0fb"
      },
      "execution_count": 33,
      "outputs": [
        {
          "output_type": "stream",
          "name": "stdout",
          "text": [
            "Num 1S\n",
            "Num 2D\n",
            "<class 'str'>\n",
            "<class 'str'>\n",
            "The inputs are not numerical\n",
            "Program Ended\n"
          ]
        }
      ]
    },
    {
      "cell_type": "code",
      "source": [
        "# Exercise 3:\n",
        "print('--*Program Start*--')\n",
        "try:\n",
        "  value = [1,2,5,4,3]\n",
        "  indexVal = len(value) + 1\n",
        "  print(\"List: {}\".format(value))\n",
        "  print(\"Index selected: {}\".format(indexVal))\n",
        "  out_of_value_index = indexVal # // out of range index\n",
        "  i = value[out_of_value_index]\n",
        "except IndexError:\n",
        "  print('list index out of range')\n",
        "print('--*Program Ended*--')"
      ],
      "metadata": {
        "colab": {
          "base_uri": "https://localhost:8080/"
        },
        "id": "ICrIXGpHeME_",
        "outputId": "ca143623-cc7f-4622-b3d4-5ac2a5e7cc97"
      },
      "execution_count": 32,
      "outputs": [
        {
          "output_type": "stream",
          "name": "stdout",
          "text": [
            "--*Program Start*--\n",
            "List: [1, 2, 5, 4, 3]\n",
            "Index selected: 6\n",
            "list index out of range\n",
            "--*Program Ended*--\n"
          ]
        }
      ]
    },
    {
      "cell_type": "code",
      "source": [
        "# Exercise 4:\n",
        "\n",
        "\n",
        "\n"
      ],
      "metadata": {
        "id": "x7X9qmSebxfk"
      },
      "execution_count": null,
      "outputs": []
    }
  ]
}