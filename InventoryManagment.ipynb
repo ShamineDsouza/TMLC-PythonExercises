{
  "nbformat": 4,
  "nbformat_minor": 0,
  "metadata": {
    "colab": {
      "provenance": [],
      "authorship_tag": "ABX9TyNCvyB57mu4bxlv323KBSZN",
      "include_colab_link": true
    },
    "kernelspec": {
      "name": "python3",
      "display_name": "Python 3"
    },
    "language_info": {
      "name": "python"
    }
  },
  "cells": [
    {
      "cell_type": "markdown",
      "metadata": {
        "id": "view-in-github",
        "colab_type": "text"
      },
      "source": [
        "<a href=\"https://colab.research.google.com/github/ShamineDsouza/TMLC-PythonExercises/blob/main/InventoryManagment.ipynb\" target=\"_parent\"><img src=\"https://colab.research.google.com/assets/colab-badge.svg\" alt=\"Open In Colab\"/></a>"
      ]
    },
    {
      "cell_type": "code",
      "execution_count": 2,
      "metadata": {
        "id": "4bGsxFa1LOva"
      },
      "outputs": [],
      "source": [
        "# INVENTORY MANAGEMENT"
      ]
    },
    {
      "cell_type": "code",
      "source": [
        "# Product class all defination\n",
        "class Product:\n",
        "    def __init__(self, name, price, quantity):\n",
        "        self.name = name\n",
        "        self.price = price\n",
        "        self.quantity = quantity\n",
        "\n",
        "    def display_product_info(self):\n",
        "        print(f\"Name: {self.name}, Price: ${self.price}, Quantity: {self.quantity}\")\n",
        "\n",
        "    def update_quantity(self, new_quantity):\n",
        "        self.quantity = new_quantity"
      ],
      "metadata": {
        "id": "LpPhn0gNSxnn"
      },
      "execution_count": 14,
      "outputs": []
    },
    {
      "cell_type": "code",
      "source": [
        "# Inventory class all defination\n",
        "\n",
        "class Inventory:\n",
        "    def __init__(self):\n",
        "        self.products = {}\n",
        "\n",
        "    def add_product(self, product):\n",
        "        self.products[product.name] = product\n",
        "\n",
        "    def remove_product(self, product_name):\n",
        "        if product_name in self.products:\n",
        "            del self.products[product_name]\n",
        "            print(f\"{product_name} removed from inventory.\")\n",
        "        else:\n",
        "            print(f\"{product_name} not found in inventory.\")\n",
        "\n",
        "    def display_inventory(self):\n",
        "        for product_name, product in self.products.items():\n",
        "            print(\"-------------------------\")\n",
        "            product.display_product_info()\n",
        "        print(\"-------------------------\")\n",
        "\n",
        "    def update_quantity(self, product_name, new_quantity):\n",
        "        if product_name in self.products:\n",
        "            self.products[product_name].update_quantity(new_quantity)\n",
        "            print(f\"Quantity updated for {product_name}.\")\n",
        "        else:\n",
        "            print(f\"{product_name} not found in inventory.\")"
      ],
      "metadata": {
        "id": "gYeuKD8cMVKV"
      },
      "execution_count": 8,
      "outputs": []
    },
    {
      "cell_type": "code",
      "source": [
        "# Inventory object\n",
        "inventory = Inventory()\n",
        "\n",
        "# Create and add to the inventory\n",
        "laptop = Product(\"Laptop\", 500.99, 10)\n",
        "mouse = Product(\"Mouse\", 5, 10)\n",
        "keyboard = Product(\"Keyboard\", 20, 10)\n",
        "\n",
        "inventory.add_product(laptop)\n",
        "inventory.add_product(mouse)\n",
        "inventory.add_product(keyboard)"
      ],
      "metadata": {
        "colab": {
          "base_uri": "https://localhost:8080/"
        },
        "id": "E5RCDRL_S5hs",
        "outputId": "4026d4d6-2533-4951-ef25-3a4d89fc038e"
      },
      "execution_count": 12,
      "outputs": [
        {
          "output_type": "stream",
          "name": "stdout",
          "text": [
            "Product added to inventory.\n",
            "Product added to inventory.\n",
            "Product added to inventory.\n"
          ]
        }
      ]
    },
    {
      "cell_type": "code",
      "source": [
        "# Update quantity of a product\n",
        "inventory.update_quantity(\"Laptop\", 8)\n",
        "\n",
        "# Remove a product from the inventory\n",
        "inventory.remove_product(\"Mouse\")\n",
        "\n",
        "# Display inventory\n",
        "inventory.display_inventory()"
      ],
      "metadata": {
        "colab": {
          "base_uri": "https://localhost:8080/"
        },
        "id": "3fJ0Ss4NS7-O",
        "outputId": "77bd61f8-6f3b-444d-a54f-ece14b328847"
      },
      "execution_count": 13,
      "outputs": [
        {
          "output_type": "stream",
          "name": "stdout",
          "text": [
            "Quantity updated.\n",
            "Product removed from inventory.\n",
            "Inventory:\n",
            "Product Name: Laptop\n",
            "Price: $500.99\n",
            "Quantity: 8\n",
            "\n",
            "Product Name: Keyboard\n",
            "Price: $20\n",
            "Quantity: 10\n",
            "\n"
          ]
        }
      ]
    }
  ]
}