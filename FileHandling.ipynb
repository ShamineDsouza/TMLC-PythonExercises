{
  "nbformat": 4,
  "nbformat_minor": 0,
  "metadata": {
    "colab": {
      "provenance": [],
      "authorship_tag": "ABX9TyPxVCHdoDEv85nw4bEJNq0c",
      "include_colab_link": true
    },
    "kernelspec": {
      "name": "python3",
      "display_name": "Python 3"
    },
    "language_info": {
      "name": "python"
    }
  },
  "cells": [
    {
      "cell_type": "markdown",
      "metadata": {
        "id": "view-in-github",
        "colab_type": "text"
      },
      "source": [
        "<a href=\"https://colab.research.google.com/github/ShamineDsouza/TMLC-PythonExercises/blob/main/FileHandling.ipynb\" target=\"_parent\"><img src=\"https://colab.research.google.com/assets/colab-badge.svg\" alt=\"Open In Colab\"/></a>"
      ]
    },
    {
      "cell_type": "code",
      "execution_count": 11,
      "metadata": {
        "id": "4zUkOuuWmGwl"
      },
      "outputs": [],
      "source": [
        "import os\n",
        "\n",
        "class FileHandling():\n",
        "\n",
        "   def create_file(): # 1st Function to create file\n",
        "      inputFileName = input(\"Enter the file name : \")\n",
        "      inputFileNoOfLines = int(input(\"Enter the number of lines to write in the file : \"))\n",
        "      # Open the file in write mode\n",
        "      with open(inputFileName, 'w') as file:\n",
        "\n",
        "        for  i in range(0, inputFileNoOfLines):\n",
        "          line = input(f\"Enter the text for line {i + 1} : \")\n",
        "          file.write(line + '\\n')\n",
        "\n",
        "      print(f\"File '{inputFileName}' created successfully.\")\n",
        "\n",
        "\n",
        "   def view_file(): # 2nd Function to View File created\n",
        "       inputFileName = input(\"Enter the file name : \")\n",
        "\n",
        "       try:\n",
        "         with open(inputFileName, 'r') as file: # read mode\n",
        "          print(f\"Read File '{inputFileName}':\")\n",
        "          for line in file:\n",
        "                print(line, end='')\n",
        "\n",
        "       except FileNotFoundError:\n",
        "          print(f\"File '{inputFileName}' not found.\")\n",
        "\n",
        "   def delete_file():  # 3rd Function to delete file\n",
        "    inputFileName = input(\"Enter the file name : \")\n",
        "    try:\n",
        "      os.remove(inputFileName)\n",
        "\n",
        "      print(f\"File '{inputFileName}' deleted successfully.\")\n",
        "    except FileNotFoundError:\n",
        "        print(f\"File '{inputFileName}' not found. Unable to delete.\")"
      ]
    },
    {
      "cell_type": "code",
      "source": [
        "FileHandling.create_file()"
      ],
      "metadata": {
        "colab": {
          "base_uri": "https://localhost:8080/"
        },
        "id": "7U98QO9_tmQL",
        "outputId": "92997308-c86c-4f61-e235-3c0d3fdbbaa9"
      },
      "execution_count": 7,
      "outputs": [
        {
          "output_type": "stream",
          "name": "stdout",
          "text": [
            "Enter the file name : AA\n",
            "Enter the number of lines to write in the file : 2\n",
            "Enter the text for line 1 : hi\n",
            "Enter the text for line 2 : Shamine\n",
            "File 'AA' created successfully.\n"
          ]
        }
      ]
    },
    {
      "cell_type": "code",
      "source": [
        "FileHandling.view_file()"
      ],
      "metadata": {
        "colab": {
          "base_uri": "https://localhost:8080/"
        },
        "id": "dK5WNUUvt4R7",
        "outputId": "4d09f476-6420-4f07-ea38-e4deef53d076"
      },
      "execution_count": 8,
      "outputs": [
        {
          "output_type": "stream",
          "name": "stdout",
          "text": [
            "Enter the file name : AA\n",
            "File 'AA':\n",
            "hi\n",
            "Shamine\n"
          ]
        }
      ]
    },
    {
      "cell_type": "code",
      "source": [
        "FileHandling.delete_file()"
      ],
      "metadata": {
        "colab": {
          "base_uri": "https://localhost:8080/"
        },
        "id": "_oMYzYYWud8w",
        "outputId": "c6dadd27-3085-455b-b94e-7be68063872d"
      },
      "execution_count": 12,
      "outputs": [
        {
          "output_type": "stream",
          "name": "stdout",
          "text": [
            "Enter the file name : AA\n",
            "File 'AA' deleted successfully.\n"
          ]
        }
      ]
    },
    {
      "cell_type": "code",
      "source": [
        "while True:\n",
        "    print(\"\\nOptions: \\n 1. Create a new file \\n 2. View an existing file \\n 3. Delete a file \\n 4. Exit the program\")\n",
        "\n",
        "    choice = input(\"Enter your choice: \")\n",
        "\n",
        "    if choice == '1':\n",
        "      FileHandling.create_file()\n",
        "    elif choice == '2':\n",
        "      FileHandling.view_file()\n",
        "    elif choice == '3':\n",
        "      FileHandling.delete_file()\n",
        "\n",
        "    elif choice == '0':\n",
        "        print(\"Exit.\")\n",
        "        break\n",
        "\n",
        "    else:\n",
        "        print(\"Invalid choice. Please enter a valid option.\")\n",
        "\n",
        ""
      ],
      "metadata": {
        "colab": {
          "base_uri": "https://localhost:8080/"
        },
        "id": "Q-V6G0rvvn5h",
        "outputId": "68697bda-5049-464f-f3f7-4046069845cf"
      },
      "execution_count": 14,
      "outputs": [
        {
          "output_type": "stream",
          "name": "stdout",
          "text": [
            "\n",
            "Options: \n",
            " 1. Create a new file \n",
            " 2. View an existing file \n",
            " 3. Delete a file \n",
            " 4. Exit the program\n",
            "Enter your choice: 0\n",
            "Exit.\n"
          ]
        }
      ]
    }
  ]
}