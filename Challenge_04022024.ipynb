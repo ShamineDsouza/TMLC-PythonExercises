{
  "nbformat": 4,
  "nbformat_minor": 0,
  "metadata": {
    "colab": {
      "provenance": [],
      "authorship_tag": "ABX9TyPg24f/a6W6k112kzyWMLBT",
      "include_colab_link": true
    },
    "kernelspec": {
      "name": "python3",
      "display_name": "Python 3"
    },
    "language_info": {
      "name": "python"
    }
  },
  "cells": [
    {
      "cell_type": "markdown",
      "metadata": {
        "id": "view-in-github",
        "colab_type": "text"
      },
      "source": [
        "<a href=\"https://colab.research.google.com/github/ShamineDsouza/HSPA/blob/main/Challenge_04022024.ipynb\" target=\"_parent\"><img src=\"https://colab.research.google.com/assets/colab-badge.svg\" alt=\"Open In Colab\"/></a>"
      ]
    },
    {
      "cell_type": "code",
      "execution_count": 13,
      "metadata": {
        "id": "G9uGRZRzgwnf",
        "colab": {
          "base_uri": "https://localhost:8080/"
        },
        "outputId": "1843ecda-26c8-4254-dcf5-02805983caef"
      },
      "outputs": [
        {
          "output_type": "stream",
          "name": "stdout",
          "text": [
            "Neither even or odd, 0\n",
            "Neither even or odd, 2\n",
            "[20, 10, 54]\n",
            "[15, 23, 13, 45]\n"
          ]
        }
      ],
      "source": [
        "# Challenge 1\n",
        "\n",
        "arrEven=[]\n",
        "arrOdd=[]\n",
        "arrNum=[0,15,20,23,2,10,13,54,45]\n",
        "\n",
        "for item in arrNum:\n",
        "  if item == 1 or item ==0 or item ==2:\n",
        "    print('Neither even or odd, {}'.format(item))\n",
        "  elif item%2 == 0:\n",
        "     arrEven.append(item)\n",
        "     #print('Even numbers')\n",
        "  else:\n",
        "    arrOdd.append(item)\n",
        "    #print('Odd numbers')\n",
        "\n",
        "print(arrEven)\n",
        "print(arrOdd)"
      ]
    },
    {
      "cell_type": "code",
      "source": [
        "# Challenge 2\n",
        "\n",
        "arrEven=[]\n",
        "arrOdd=[]\n",
        "sumEvenNum = 0\n",
        "arrNum=[0,15,20,23,2,10,13,54,45]\n",
        "\n",
        "for item in arrNum:\n",
        "  if item == 1 or item ==0 or item ==2:\n",
        "    print('Neither even or odd, {}'.format(item))\n",
        "  elif item%2 == 0:\n",
        "     arrEven.append(item)\n",
        "     sumEvenNum = sumEvenNum + item\n",
        "     #print('Even numbers')\n",
        "  else:\n",
        "    arrOdd.append(item)\n",
        "    #print('Odd numbers')\n",
        "\n",
        "print(sumEvenNum)\n"
      ],
      "metadata": {
        "colab": {
          "base_uri": "https://localhost:8080/"
        },
        "id": "GGcZ6wce8jHN",
        "outputId": "9f481b1e-0806-4161-892e-c9bc9d7b6d76"
      },
      "execution_count": 15,
      "outputs": [
        {
          "output_type": "stream",
          "name": "stdout",
          "text": [
            "Neither even or odd, 0\n",
            "Neither even or odd, 2\n",
            "84\n"
          ]
        }
      ]
    },
    {
      "cell_type": "code",
      "source": [
        "# Challenge 3\n",
        "\n",
        "count = 5\n",
        "i = 0\n",
        "\n",
        "while i < count:\n",
        "    i += 1\n",
        "    if i < count:\n",
        "      print(i)\n",
        "    else :\n",
        "      print(i)\n",
        "      print('While loop executed now in else program')\n",
        "\n",
        "\n",
        "print('END of program')\n",
        "\n",
        "\n"
      ],
      "metadata": {
        "colab": {
          "base_uri": "https://localhost:8080/"
        },
        "id": "6d5qojKI8jNd",
        "outputId": "1b10e291-809e-479a-b19c-458328967ac1"
      },
      "execution_count": 27,
      "outputs": [
        {
          "output_type": "stream",
          "name": "stdout",
          "text": [
            "1\n",
            "2\n",
            "3\n",
            "4\n",
            "5\n",
            "While loop executed now in else program\n",
            "END of program\n"
          ]
        }
      ]
    },
    {
      "cell_type": "code",
      "source": [
        "# Challenge 4\n",
        "\n",
        "import secrets\n",
        "import random\n",
        "import string\n",
        "\n",
        "user = 'Shamine Dsouza'#input('Enter the user:')\n",
        "lenPassword = int(20)  #int(input('Enter the length of password required for user:'))\n",
        "\n",
        "#---------------------------** Secrets **-------------------------------------------------#\n",
        "# Generate a random string of hexadecimal digits\n",
        "password = secrets.token_hex(lenPassword // 2)\n",
        "# Return the first `length` characters of the password\n",
        "print('Password 1: {}'.format(password[:lenPassword]))\n",
        "\n",
        "#---------------------------** Random **-------------------------------------------------#\n",
        " # Generate a list of random characters\n",
        "privateKey = 'asdffhb::hyy@@gh%ebgvdfyhvhdf::'\n",
        "characters = [random.choice(user + string.ascii_letters + string.digits + string.printable + privateKey) for _ in range(lenPassword)] # // need to understand this (  _ in )\n",
        "# Shuffle the list of characters\n",
        "random.shuffle(characters)\n",
        "# Return the shuffled list of characters as a string\n",
        "joinChar = ''.join(characters) # // to concatenate the characters returned in the array which is included in single quotes\n",
        "print('Password 2: {}'.format(joinChar))"
      ],
      "metadata": {
        "colab": {
          "base_uri": "https://localhost:8080/"
        },
        "id": "P90Y0l-nAa2m",
        "outputId": "3e9650f1-99cf-414c-90c7-d28016d2f447"
      },
      "execution_count": 53,
      "outputs": [
        {
          "output_type": "stream",
          "name": "stdout",
          "text": [
            "Password 1: 03a54e078bddbcdd7298\n",
            "Password 2: K\"H1ynDw58SEdS}v1\\ui\n"
          ]
        }
      ]
    },
    {
      "cell_type": "code",
      "source": [],
      "metadata": {
        "id": "t_pOOWIVF41a"
      },
      "execution_count": null,
      "outputs": []
    }
  ]
}